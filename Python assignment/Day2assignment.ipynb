{
 "cells": [
  {
   "cell_type": "code",
   "execution_count": 1,
   "metadata": {},
   "outputs": [
    {
     "name": "stdout",
     "output_type": "stream",
     "text": [
      "[30, 20, 10, 40]\n"
     ]
    }
   ],
   "source": [
    "# Write a Python program to swap two elements in a list\n",
    "\n",
    "def swapPositions(list, pos1, pos2):     \n",
    "    list[pos1], list[pos2] = list[pos2], list[pos1] \n",
    "    return list\n",
    "   \n",
    "List = [10, 20, 30, 40] \n",
    "pos1, pos2  = 1, 3\n",
    "  \n",
    "print(swapPositions(List, pos1-1, pos2-1)) "
   ]
  },
  {
   "cell_type": "code",
   "execution_count": 2,
   "metadata": {},
   "outputs": [
    {
     "name": "stdout",
     "output_type": "stream",
     "text": [
      "Reversing list is: [40, 30, 20, 10]\n"
     ]
    }
   ],
   "source": [
    "# Write a Python program for Reversing a List.\n",
    "\n",
    "list = [10, 20, 30, 40]\n",
    "list.reverse()\n",
    "print('Reversing list is:',list)\n"
   ]
  },
  {
   "cell_type": "code",
   "execution_count": 3,
   "metadata": {},
   "outputs": [
    {
     "name": "stdout",
     "output_type": "stream",
     "text": [
      "10000\n"
     ]
    }
   ],
   "source": [
    "# Write a Python program to Multiply all numbers in the list.\n",
    "\n",
    "list = [10, 10, 10, 10]\n",
    "print(list[0]*list[1]*list[2]*list[3])"
   ]
  },
  {
   "cell_type": "code",
   "execution_count": 4,
   "metadata": {},
   "outputs": [
    {
     "name": "stdout",
     "output_type": "stream",
     "text": [
      "[50, 20, 30, 40, 10]\n"
     ]
    }
   ],
   "source": [
    "# Write a Python program to interchange first and last elements in a list\n",
    "\n",
    "def swapList(list): \n",
    "      \n",
    "    list[0], list[-1] = list[-1], list[0]   \n",
    "    return list \n",
    "      \n",
    "list = [10, 20, 30, 40, 50] \n",
    "print(swapList(list)) "
   ]
  },
  {
   "cell_type": "code",
   "execution_count": 5,
   "metadata": {},
   "outputs": [
    {
     "name": "stdout",
     "output_type": "stream",
     "text": [
      "Largest number of the list is: 50\n"
     ]
    }
   ],
   "source": [
    "# Write a Python program to find largest number in a list.\n",
    "\n",
    "list = [19, 10, 50, 46, 6]\n",
    "print(\"Largest number of the list is:\", max(list))"
   ]
  },
  {
   "cell_type": "code",
   "execution_count": 6,
   "metadata": {},
   "outputs": [
    {
     "name": "stdout",
     "output_type": "stream",
     "text": [
      "300\n"
     ]
    }
   ],
   "source": [
    "# Write a Python program to find the sum of all items in a dictionary.\n",
    "\n",
    "dict = {'a':100,'b':100,'c':100}\n",
    "print(sum(dict.values()))"
   ]
  },
  {
   "cell_type": "code",
   "execution_count": 7,
   "metadata": {},
   "outputs": [
    {
     "name": "stdout",
     "output_type": "stream",
     "text": [
      "{'a': 100, 'b': 200, 'x': 300, 'y': 400}\n"
     ]
    }
   ],
   "source": [
    "# Write a Python program for Merging two Dictionaries.\n",
    "\n",
    "d1 = {'a': 100, 'b': 200}\n",
    "d2 = {'x': 300, 'y': 400}\n",
    "d = d1.copy()\n",
    "d.update(d2)\n",
    "print(d)"
   ]
  },
  {
   "cell_type": "code",
   "execution_count": 8,
   "metadata": {},
   "outputs": [
    {
     "name": "stdout",
     "output_type": "stream",
     "text": [
      "Original dictionary :  {1: 2, 3: 4, 4: 3, 2: 1, 0: 0}\n",
      "Dictionary in ascending order by value :  [(0, 0), (1, 2), (2, 1), (3, 4), (4, 3)]\n",
      "Dictionary in descending order by value :  [(4, 3), (3, 4), (2, 1), (1, 2), (0, 0)]\n"
     ]
    }
   ],
   "source": [
    "# Write a Python script to sort (ascending and descending) a dictionary by value. \n",
    "\n",
    "import operator\n",
    "d = {1: 2, 3: 4, 4: 3, 2: 1, 0: 0}\n",
    "print('Original dictionary : ',d)\n",
    "sorted_d = sorted(d.items(), key=operator.itemgetter(0))\n",
    "print('Dictionary in ascending order by value : ',sorted_d)\n",
    "sorted_d = sorted(d.items(), key=operator.itemgetter(0),reverse=True)\n",
    "print('Dictionary in descending order by value : ',sorted_d)"
   ]
  },
  {
   "cell_type": "code",
   "execution_count": 9,
   "metadata": {},
   "outputs": [
    {
     "name": "stdout",
     "output_type": "stream",
     "text": [
      "Key is present in the dictionary\n",
      "Key is not present in the dictionary\n"
     ]
    }
   ],
   "source": [
    "# Write a Python script to check whether a given key already exists in a dictionary.\n",
    "\n",
    "d = {1: 10, 2: 20, 3: 30, 4: 40, 5: 50, 6: 60}\n",
    "def is_key_present(x):\n",
    "  if x in d:\n",
    "      print('Key is present in the dictionary')\n",
    "  else:\n",
    "      print('Key is not present in the dictionary')\n",
    "is_key_present(5)\n",
    "is_key_present(8)\n"
   ]
  },
  {
   "cell_type": "code",
   "execution_count": 10,
   "metadata": {},
   "outputs": [
    {
     "name": "stdout",
     "output_type": "stream",
     "text": [
      "{'a': 1, 'b': 2, 'c': 3, 'd': 4}\n",
      "{'b': 2, 'c': 3, 'd': 4}\n"
     ]
    }
   ],
   "source": [
    "# Write a Python program to remove a key from a dictionary.\n",
    "\n",
    "myDict = {'a':1,'b':2,'c':3,'d':4}\n",
    "print(myDict)\n",
    "if 'a' in myDict: \n",
    "    del myDict['a']\n",
    "print(myDict)\n"
   ]
  },
  {
   "cell_type": "code",
   "execution_count": 11,
   "metadata": {},
   "outputs": [
    {
     "name": "stdout",
     "output_type": "stream",
     "text": [
      "('tuple', False, 4.2, 1)\n"
     ]
    }
   ],
   "source": [
    "# Write a Python program to create a tuple with different data types. \n",
    "\n",
    "tuple = (\"tuple\", False, 4.2, 1)\n",
    "print(tuple)"
   ]
  },
  {
   "cell_type": "code",
   "execution_count": 12,
   "metadata": {},
   "outputs": [
    {
     "name": "stdout",
     "output_type": "stream",
     "text": [
      "cdacmumbai\n"
     ]
    }
   ],
   "source": [
    "# Write a Python program to convert a tuple to a string.\n",
    "\n",
    "tuple = ('c', 'd', 'a', 'c', 'm', 'u', 'm', 'b', 'a', 'i')\n",
    "str =  ''.join(tuple)\n",
    "print(str)"
   ]
  },
  {
   "cell_type": "code",
   "execution_count": 13,
   "metadata": {},
   "outputs": [
    {
     "name": "stdout",
     "output_type": "stream",
     "text": [
      "(2, 4, 5, 6, 2, 3, 4, 4, 7)\n",
      "2\n"
     ]
    }
   ],
   "source": [
    "# Write a Python program to find the repeated items of a tuple.\n",
    "\n",
    "#create a tuple\n",
    "tuple = 2, 4, 5, 6, 2, 3, 4, 4, 7 \n",
    "print(tuple)\n",
    "count = tuple.count(2)\n",
    "print(count)\n"
   ]
  },
  {
   "cell_type": "code",
   "execution_count": 14,
   "metadata": {},
   "outputs": [
    {
     "name": "stdout",
     "output_type": "stream",
     "text": [
      "cdac\n"
     ]
    }
   ],
   "source": [
    "# Write a Python program to convert a list of characters into a string.\n",
    "\n",
    "s = ['c', 'd', 'a', 'c']\n",
    "str1 = ''.join(s)\n",
    "print(str1)"
   ]
  },
  {
   "cell_type": "code",
   "execution_count": 15,
   "metadata": {},
   "outputs": [
    {
     "name": "stdout",
     "output_type": "stream",
     "text": [
      "[1, 2, 3, 0, 'Rakesh', 'Suresh', 'Ramesh']\n"
     ]
    }
   ],
   "source": [
    "# Write a Python program to append a list to the second list.\n",
    "\n",
    "list1 = [1, 2, 3, 0]\n",
    "list2 = ['Rakesh', 'Suresh', 'Ramesh']\n",
    "final_list = list1 + list2\n",
    "print(final_list)\n"
   ]
  },
  {
   "cell_type": "code",
   "execution_count": null,
   "metadata": {},
   "outputs": [],
   "source": []
  }
 ],
 "metadata": {
  "kernelspec": {
   "display_name": "Python 3",
   "language": "python",
   "name": "python3"
  },
  "language_info": {
   "codemirror_mode": {
    "name": "ipython",
    "version": 3
   },
   "file_extension": ".py",
   "mimetype": "text/x-python",
   "name": "python",
   "nbconvert_exporter": "python",
   "pygments_lexer": "ipython3",
   "version": "3.7.6"
  }
 },
 "nbformat": 4,
 "nbformat_minor": 4
}
