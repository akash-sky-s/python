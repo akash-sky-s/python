{
 "cells": [
  {
   "cell_type": "code",
   "execution_count": 1,
   "metadata": {},
   "outputs": [
    {
     "name": "stdout",
     "output_type": "stream",
     "text": [
      "Original array:\n",
      "[1 2 3 4 5]\n",
      "Test if none of the elements of the said array is zero:\n",
      "True\n",
      "Original array:\n",
      "[0 1 2 3 4]\n",
      "Test if none of the elements of the said array is zero:\n",
      "False\n"
     ]
    }
   ],
   "source": [
    "# Write a NumPy program to test whether none of the elements of a given array is zero.\n",
    "\n",
    "import numpy as np\n",
    "x = np.array([1, 2, 3, 4, 5])\n",
    "print(\"Original array:\")\n",
    "print(x)\n",
    "print(\"Test if none of the elements of the said array is zero:\")\n",
    "print(np.all(x))\n",
    "x = np.array([0, 1, 2, 3, 4])\n",
    "print(\"Original array:\")\n",
    "print(x)\n",
    "print(\"Test if none of the elements of the said array is zero:\")\n",
    "print(np.all(x))\n"
   ]
  },
  {
   "cell_type": "code",
   "execution_count": 1,
   "metadata": {},
   "outputs": [
    {
     "name": "stdout",
     "output_type": "stream",
     "text": [
      "Original array:\n",
      "[  1   7  13 105]\n",
      "Size of the memory occupied by the said array:\n",
      "16 bytes\n"
     ]
    }
   ],
   "source": [
    "# Write a NumPy program to create an array with the values 1, 7, 13, 105 and determine the size of the memory occupied by the array.\n",
    "\n",
    "import numpy as np\n",
    "X = np.array([1, 7, 13, 105])\n",
    "print(\"Original array:\")\n",
    "print(X)\n",
    "print(\"Size of the memory occupied by the said array:\")\n",
    "print(\"%d bytes\" % (X.size * X.itemsize))\n"
   ]
  },
  {
   "cell_type": "code",
   "execution_count": 2,
   "metadata": {},
   "outputs": [
    {
     "name": "stdout",
     "output_type": "stream",
     "text": [
      "Array of all the even integers from 30 to 70\n",
      "[30 32 34 36 38 40 42 44 46 48 50 52 54 56 58 60 62 64 66 68 70]\n"
     ]
    }
   ],
   "source": [
    "# Write a NumPy program to create an array of all the even integers from 30 to 70.\n",
    "\n",
    "import numpy as np\n",
    "array=np.arange(30,71,2)\n",
    "print(\"Array of all the even integers from 30 to 70\")\n",
    "print(array) \n"
   ]
  },
  {
   "cell_type": "code",
   "execution_count": 3,
   "metadata": {},
   "outputs": [
    {
     "name": "stdout",
     "output_type": "stream",
     "text": [
      "3x3 matrix:\n",
      "[[1. 0. 0.]\n",
      " [0. 1. 0.]\n",
      " [0. 0. 1.]]\n"
     ]
    }
   ],
   "source": [
    "# Write a NumPy program to create a 3x3 identity matrix.\n",
    "\n",
    "import numpy as np\n",
    "array_2D=np.identity(3)\n",
    "print('3x3 matrix:')\n",
    "print(array_2D)\n"
   ]
  },
  {
   "cell_type": "code",
   "execution_count": 4,
   "metadata": {},
   "outputs": [
    {
     "name": "stdout",
     "output_type": "stream",
     "text": [
      "Original array:\n",
      "[[ 1  2  3  4]\n",
      " [ 5  6  7  8]\n",
      " [ 9 10 11 12]]\n",
      "Each element of the array is:\n",
      "1 2 3 4 5 6 7 8 9 10 11 12 "
     ]
    }
   ],
   "source": [
    "# Write a NumPy program to create a 3X4 array using and iterate over it.\n",
    "\n",
    "import numpy as np\n",
    "a = np.arange(1,13).reshape((3, 4))\n",
    "print(\"Original array:\")\n",
    "print(a)\n",
    "print(\"Each element of the array is:\")\n",
    "for x in np.nditer(a):\n",
    "  print(x,end=\" \")\n"
   ]
  },
  {
   "cell_type": "code",
   "execution_count": 5,
   "metadata": {},
   "outputs": [
    {
     "name": "stdout",
     "output_type": "stream",
     "text": [
      "Original matrix:\n",
      "[[ 1  2  3  4]\n",
      " [ 5  6  7  8]\n",
      " [ 9 10 11 12]]\n",
      "Number of rows and columns of the said matrix:\n",
      "(3, 4)\n"
     ]
    }
   ],
   "source": [
    "# Write a NumPy program to find the number of rows and columns of a given matrix. \n",
    "\n",
    "import numpy as np\n",
    "m= np.arange(1,13).reshape((3, 4))\n",
    "print(\"Original matrix:\")\n",
    "print(m)\n",
    "print(\"Number of rows and columns of the said matrix:\")\n",
    "print(m.shape)\n"
   ]
  },
  {
   "cell_type": "code",
   "execution_count": 6,
   "metadata": {},
   "outputs": [
    {
     "name": "stdout",
     "output_type": "stream",
     "text": [
      "[[1. 1. 1. 1. 1. 1. 1. 1. 1. 1.]\n",
      " [1. 0. 0. 0. 0. 0. 0. 0. 0. 1.]\n",
      " [1. 0. 0. 0. 0. 0. 0. 0. 0. 1.]\n",
      " [1. 0. 0. 0. 0. 0. 0. 0. 0. 1.]\n",
      " [1. 0. 0. 0. 0. 0. 0. 0. 0. 1.]\n",
      " [1. 0. 0. 0. 0. 0. 0. 0. 0. 1.]\n",
      " [1. 0. 0. 0. 0. 0. 0. 0. 0. 1.]\n",
      " [1. 0. 0. 0. 0. 0. 0. 0. 0. 1.]\n",
      " [1. 0. 0. 0. 0. 0. 0. 0. 0. 1.]\n",
      " [1. 1. 1. 1. 1. 1. 1. 1. 1. 1.]]\n"
     ]
    }
   ],
   "source": [
    "# Write a NumPy program to create a 10x10 matrix, in which the elements on the borders will be equal to 1, and inside 0. \n",
    "\n",
    "import numpy as np\n",
    "x = np.ones((10, 10))\n",
    "x[1:-1, 1:-1] = 0\n",
    "print(x)\n"
   ]
  },
  {
   "cell_type": "code",
   "execution_count": 7,
   "metadata": {},
   "outputs": [
    {
     "name": "stdout",
     "output_type": "stream",
     "text": [
      "Original array:\n",
      "[[0 1]\n",
      " [2 3]]\n",
      "Sum of all elements:\n",
      "6\n",
      "Sum of each column:\n",
      "[2 4]\n",
      "Sum of each row:\n",
      "[1 5]\n"
     ]
    }
   ],
   "source": [
    "# Write a NumPy program to compute sum of all elements, sum of each column and sum of each row of a given array.\n",
    "\n",
    "import numpy as np\n",
    "x = np.array([[0,1],[2,3]])\n",
    "print(\"Original array:\")\n",
    "print(x)\n",
    "print(\"Sum of all elements:\")\n",
    "print(np.sum(x))\n",
    "print(\"Sum of each column:\")\n",
    "print(np.sum(x, axis=0))\n",
    "print(\"Sum of each row:\")\n",
    "print(np.sum(x, axis=1))\n"
   ]
  },
  {
   "cell_type": "code",
   "execution_count": 8,
   "metadata": {},
   "outputs": [
    {
     "name": "stdout",
     "output_type": "stream",
     "text": [
      "[ 3  5  6  9 10 12 15 18 20 21 24 25 27 30 33 35 36 39 40 42 45 48 50 51\n",
      " 54 55 57 60 63 65 66 69 70 72 75 78 80 81 84 85 87 90 93 95 96 99]\n",
      "2318\n"
     ]
    }
   ],
   "source": [
    "# Write a NumPy program (using NumPy) to sum of all the multiples of 3 or 5 below 100.\n",
    "\n",
    "import numpy as np\n",
    "x = np.arange(1, 100)\n",
    "n= x[(x % 3 == 0) | (x % 5 == 0)]\n",
    "print(n[:1000])\n",
    "# print sum the numbers\n",
    "print(n.sum())\n"
   ]
  },
  {
   "cell_type": "code",
   "execution_count": 9,
   "metadata": {},
   "outputs": [
    {
     "name": "stdout",
     "output_type": "stream",
     "text": [
      "Original array:\n",
      "[(b'Akash', 5, 48.5 ) (b'Akshay', 6, 52.5 ) (b'Pratik', 5, 42.1 )\n",
      " (b'Priya', 5, 40.11)]\n",
      "Sort by height\n",
      "[(b'Priya', 5, 40.11) (b'Pratik', 5, 42.1 ) (b'Akash', 5, 48.5 )\n",
      " (b'Akshay', 6, 52.5 )]\n"
     ]
    }
   ],
   "source": [
    "# Write a NumPy program to create a structured array from given student name, height, class and their data types. Now sort the array on height. \n",
    "\n",
    "import numpy as np\n",
    "data_type = [('name', 'S15'), ('class', int), ('height', float)]\n",
    "students_details = [('Akash', 5, 48.5), ('Akshay', 6, 52.5),('Pratik', 5, 42.10), ('Priya', 5, 40.11)]\n",
    "# create a structured array\n",
    "students = np.array(students_details, dtype=data_type)   \n",
    "print(\"Original array:\")\n",
    "print(students)\n",
    "print(\"Sort by height\")\n",
    "print(np.sort(students, order='height'))    \n"
   ]
  },
  {
   "cell_type": "code",
   "execution_count": 11,
   "metadata": {},
   "outputs": [
    {
     "name": "stdout",
     "output_type": "stream",
     "text": [
      "\n",
      "Original Array:\n",
      "['Python' 'PHP' 'JS' 'html']\n",
      "Number of ‘P’:\n",
      "[1 2 0 0]\n"
     ]
    }
   ],
   "source": [
    "# Write a NumPy program to count the number of \"P\" in a given array, element-wise.\n",
    "\n",
    "import numpy as np\n",
    "x1 = np.array(['Python', 'PHP', 'JS', 'html'], dtype=np.str)\n",
    "print(\"\\nOriginal Array:\")\n",
    "print(x1)\n",
    "print(\"Number of ‘P’:\")\n",
    "r = np.char.count(x1, \"P\")\n",
    "print(r)\n"
   ]
  },
  {
   "cell_type": "code",
   "execution_count": 12,
   "metadata": {},
   "outputs": [
    {
     "name": "stdout",
     "output_type": "stream",
     "text": [
      "\n",
      "Original Array:\n",
      "['PHP, Practice, Solution']\n",
      "\n",
      "New array:\n",
      "['Python, Practice, Solution']\n"
     ]
    }
   ],
   "source": [
    "# Write a NumPy program to replace \"PHP\" with \"Python\" in the element of a given array.\n",
    "\n",
    "import numpy as np\n",
    "x = np.array(['PHP, Practice, Solution'], dtype=np.str)\n",
    "print(\"\\nOriginal Array:\")\n",
    "print(x)\n",
    "r = np.char.replace(x, \"PHP\", \"Python\")\n",
    "print(\"\\nNew array:\")\n",
    "print(r)\n"
   ]
  },
  {
   "cell_type": "code",
   "execution_count": 14,
   "metadata": {},
   "outputs": [
    {
     "name": "stdout",
     "output_type": "stream",
     "text": [
      "Original Array:\n",
      "['python' 'PHP' 'java' 'C++']\n",
      "['p y t h o n' 'P H P' 'j a v a' 'C + +']\n"
     ]
    }
   ],
   "source": [
    "#  Write a NumPy program to insert a space between characters of all the elements of a given array. \n",
    "\n",
    "import numpy as np\n",
    "x = np.array(['python', 'PHP', 'java', 'C++'], dtype=np.str)\n",
    "print(\"Original Array:\")\n",
    "print(x)\n",
    "r = np.char.join(\" \", x)\n",
    "print(r)\n"
   ]
  },
  {
   "cell_type": "code",
   "execution_count": 15,
   "metadata": {},
   "outputs": [
    {
     "name": "stdout",
     "output_type": "stream",
     "text": [
      "Original Array:\n",
      "['python' 'PHP' 'java' 'C++']\n",
      "\n",
      "Capitalized:  ['Python' 'Php' 'Java' 'C++']\n",
      "Lowered:  ['python' 'php' 'java' 'c++']\n",
      "Uppered:  ['PYTHON' 'PHP' 'JAVA' 'C++']\n",
      "Swapcased:  ['PYTHON' 'php' 'JAVA' 'c++']\n",
      "Titlecased:  ['Python' 'Php' 'Java' 'C++']\n"
     ]
    }
   ],
   "source": [
    "# Write a NumPy program to capitalize the first letter, lowercase, uppercase, swapcase, title-case of all the elements of a given array. \n",
    "\n",
    "import numpy as np\n",
    "x = np.array(['python', 'PHP', 'java', 'C++'], dtype=np.str)\n",
    "print(\"Original Array:\")\n",
    "print(x)\n",
    "capitalized_case = np.char.capitalize(x)\n",
    "lowered_case = np.char.lower(x)\n",
    "uppered_case = np.char.upper(x)\n",
    "swapcased_case = np.char.swapcase(x)\n",
    "titlecased_case = np.char.title(x)\n",
    "print(\"\\nCapitalized: \", capitalized_case)\n",
    "print(\"Lowered: \", lowered_case)\n",
    "print(\"Uppered: \", uppered_case)\n",
    "print(\"Swapcased: \", swapcased_case)\n",
    "print(\"Titlecased: \", titlecased_case)\n"
   ]
  },
  {
   "cell_type": "code",
   "execution_count": 16,
   "metadata": {},
   "outputs": [
    {
     "name": "stdout",
     "output_type": "stream",
     "text": [
      "Original Array:\n",
      "['Python' 'PHP' 'Java' 'C++']\n",
      "New array:\n",
      "['PythonPythonPython' 'PHPPHPPHP' 'JavaJavaJava' 'C++C++C++']\n"
     ]
    }
   ],
   "source": [
    "# Write a NumPy program to repeat all the elements three times of a given array of string.\n",
    "\n",
    "import numpy as np\n",
    "x1 = np.array(['Python', 'PHP', 'Java', 'C++'], dtype=np.str)\n",
    "print(\"Original Array:\")\n",
    "print(x1)\n",
    "new_array = np.char.multiply(x1, 3)\n",
    "print(\"New array:\")\n",
    "print(new_array)\n"
   ]
  }
 ],
 "metadata": {
  "kernelspec": {
   "display_name": "Python 3",
   "language": "python",
   "name": "python3"
  },
  "language_info": {
   "codemirror_mode": {
    "name": "ipython",
    "version": 3
   },
   "file_extension": ".py",
   "mimetype": "text/x-python",
   "name": "python",
   "nbconvert_exporter": "python",
   "pygments_lexer": "ipython3",
   "version": "3.7.6"
  }
 },
 "nbformat": 4,
 "nbformat_minor": 4
}
