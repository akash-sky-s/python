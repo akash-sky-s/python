{
 "cells": [
  {
   "cell_type": "code",
   "execution_count": 1,
   "metadata": {},
   "outputs": [
    {
     "name": "stdout",
     "output_type": "stream",
     "text": [
      "Average of the list = 35.75\n"
     ]
    }
   ],
   "source": [
    "# Python program to get average of a list \n",
    "\n",
    "def Average(lst): \n",
    "\treturn sum(lst) / len(lst) \n",
    " \n",
    "lst = [15, 9, 55, 41, 35, 20, 62, 49] \n",
    "average = Average(lst) \n",
    "\n",
    "print(\"Average of the list =\", round(average, 2)) \n"
   ]
  },
  {
   "cell_type": "code",
   "execution_count": 1,
   "metadata": {},
   "outputs": [
    {
     "name": "stdout",
     "output_type": "stream",
     "text": [
      "Enter the first number: 25\n",
      "Enter the second number: 3\n",
      "Quotient is: 8\n",
      "Remainder is: 1\n"
     ]
    }
   ],
   "source": [
    "# Python Program to Read Two Numbers and Print Their Quotient and Remainder.\n",
    "\n",
    "a = int(input(\"Enter the first number: \"))\n",
    "b = int(input(\"Enter the second number: \"))\n",
    "quotient = a//b\n",
    "remainder = a%b\n",
    "print(\"Quotient is:\", quotient)\n",
    "print(\"Remainder is:\", remainder)"
   ]
  },
  {
   "cell_type": "code",
   "execution_count": 3,
   "metadata": {},
   "outputs": [
    {
     "name": "stdout",
     "output_type": "stream",
     "text": [
      "Enter a number122233345\n",
      "No, its not a palindrome\n"
     ]
    }
   ],
   "source": [
    "# Python Program to Check if a Number is a Palindrome.\n",
    "\n",
    "num = input(\"Enter a number\") \n",
    "if num == num[::-1]: \n",
    "\tprint(\"Yes its a palindrome\") \n",
    "else: \n",
    "\tprint(\"No, its not a palindrome\") \n"
   ]
  },
  {
   "cell_type": "code",
   "execution_count": 4,
   "metadata": {},
   "outputs": [
    {
     "name": "stdout",
     "output_type": "stream",
     "text": [
      "*****\n",
      " ****\n",
      "  ***\n",
      "   **\n",
      "    *\n"
     ]
    }
   ],
   "source": [
    "# Python Program to Print an Inverted Star Pattern.\n",
    "\n",
    "n=5\n",
    "for i in range (n, 0, -1): \n",
    "    print((n-i) * ' ' + i * '*') "
   ]
  },
  {
   "cell_type": "code",
   "execution_count": 5,
   "metadata": {},
   "outputs": [
    {
     "name": "stdout",
     "output_type": "stream",
     "text": [
      "Enter marks of the first subject: 90\n",
      "Enter marks of the second subject: 90\n",
      "Enter marks of the third subject: 90\n",
      "Enter marks of the fourth subject: 90\n",
      "Enter marks of the fifth subject: 90\n",
      "Grade: A\n"
     ]
    }
   ],
   "source": [
    "# Python Program to Take in the Marks of 5 Subjects and Display the Grade.\n",
    "\n",
    "sub1=int(input(\"Enter marks of the first subject: \"))\n",
    "sub2=int(input(\"Enter marks of the second subject: \"))\n",
    "sub3=int(input(\"Enter marks of the third subject: \"))\n",
    "sub4=int(input(\"Enter marks of the fourth subject: \"))\n",
    "sub5=int(input(\"Enter marks of the fifth subject: \"))\n",
    "avg=(sub1+sub2+sub3+sub4+sub4)/5\n",
    "if(avg>=90):\n",
    "    print(\"Grade: A\")\n",
    "elif(avg>=80&avg<90):\n",
    "    print(\"Grade: B\")\n",
    "elif(avg>=70&avg<80):\n",
    "    print(\"Grade: C\")\n",
    "elif(avg>=60&avg<70):\n",
    "    print(\"Grade: D\")\n",
    "else:\n",
    "    print(\"Grade: F\")"
   ]
  },
  {
   "cell_type": "code",
   "execution_count": 6,
   "metadata": {},
   "outputs": [
    {
     "name": "stdout",
     "output_type": "stream",
     "text": [
      "Enter number of elements:5\n",
      "Enter element:2\n",
      "Enter element:3\n",
      "Enter element:4\n",
      "Enter element:5\n",
      "Enter element:6\n",
      "The even list [2, 4, 6]\n",
      "The odd list [3, 5]\n"
     ]
    }
   ],
   "source": [
    "# Python Program to Put Even and Odd elements in a List into Two Different Lists.\n",
    "\n",
    "a=[]\n",
    "n=int(input(\"Enter number of elements:\"))\n",
    "for i in range(1,n+1):\n",
    "    b=int(input(\"Enter element:\"))\n",
    "    a.append(b)\n",
    "even=[]\n",
    "odd=[]\n",
    "for j in a:\n",
    "    if(j%2==0):\n",
    "        even.append(j)\n",
    "    else:\n",
    "        odd.append(j)\n",
    "print(\"The even list\",even)\n",
    "print(\"The odd list\",odd)"
   ]
  },
  {
   "cell_type": "code",
   "execution_count": 7,
   "metadata": {},
   "outputs": [
    {
     "name": "stdout",
     "output_type": "stream",
     "text": [
      "Enter the lower range:1\n",
      "Enter the upper range:5\n",
      "[(1, 1), (2, 4), (3, 9), (4, 16), (5, 25)]\n"
     ]
    }
   ],
   "source": [
    "# Python Program to Create a List of Tuples with the First Element as the Number and Second Element as the Square of the Number.\n",
    "\n",
    "l_range=int(input(\"Enter the lower range:\"))\n",
    "u_range=int(input(\"Enter the upper range:\"))\n",
    "a=[(x,x**2) for x in range(l_range,u_range+1)]\n",
    "print(a)"
   ]
  },
  {
   "cell_type": "code",
   "execution_count": 13,
   "metadata": {},
   "outputs": [
    {
     "name": "stdout",
     "output_type": "stream",
     "text": [
      "[(2, 1), (1, 2), (2, 3), (4, 4), (2, 5)]\n"
     ]
    }
   ],
   "source": [
    "# Python program to Sort a List of Tuples in Increasing Order by the Last Element in Each Tuple.\n",
    "\n",
    "def last(n): return n[-1]\n",
    "\n",
    "def sort_list_last(tuples):\n",
    "  return sorted(tuples, key=last)\n",
    "\n",
    "print(sort_list_last([(2, 5), (1, 2), (4, 4), (2, 3), (2, 1)]))\n"
   ]
  },
  {
   "cell_type": "code",
   "execution_count": 14,
   "metadata": {},
   "outputs": [
    {
     "name": "stdout",
     "output_type": "stream",
     "text": [
      "2\n"
     ]
    }
   ],
   "source": [
    "# Python Program to Find Element Occurring Odd Number of Times in a List.\n",
    "\n",
    "def odd_occurrence(arr):\n",
    "    result = 0\n",
    "\n",
    "    for element in arr:\n",
    "        result = result ^ element\n",
    "    return result\n",
    "\n",
    "num1 = [ 4, 5, 4, 5, 2, 2, 3, 3, 2, 4, 4 ]\n",
    "print(odd_occurrence(num1))\n"
   ]
  },
  {
   "cell_type": "code",
   "execution_count": 15,
   "metadata": {},
   "outputs": [
    {
     "name": "stdout",
     "output_type": "stream",
     "text": [
      "Python\n"
     ]
    }
   ],
   "source": [
    "# Python Program to Read a List of Words and Return the Length of the Longest One.\n",
    "\n",
    "def find_longest_word(words_list):\n",
    "    word_len = []\n",
    "    for n in words_list:\n",
    "        word_len.append((len(n), n))\n",
    "    word_len.sort()\n",
    "    return word_len[-1][1]\n",
    "\n",
    "print(find_longest_word([\"PHP\", \"JAVA\", \"Python\"]))\n"
   ]
  },
  {
   "cell_type": "code",
   "execution_count": 16,
   "metadata": {},
   "outputs": [
    {
     "name": "stdout",
     "output_type": "stream",
     "text": [
      "{'apple': 3, 'mango': 3, 'orange': 2, 'guava': 1}\n"
     ]
    }
   ],
   "source": [
    "# Python Program to Count the Frequency of Words Appearing in a String Using a Dictionary.\n",
    "\n",
    "def word_count(str):\n",
    "    counts = dict()\n",
    "    words = str.split()\n",
    "\n",
    "    for word in words:\n",
    "        if word in counts:\n",
    "            counts[word] += 1\n",
    "        else:\n",
    "            counts[word] = 1\n",
    "\n",
    "    return counts\n",
    "\n",
    "print( word_count('apple mango apple orange orange apple guava mango mango'))\n"
   ]
  },
  {
   "cell_type": "code",
   "execution_count": 17,
   "metadata": {},
   "outputs": [
    {
     "name": "stdout",
     "output_type": "stream",
     "text": [
      "H : ['Hello']\n",
      "w : ['world']\n",
      "t : ['this', 'test']\n",
      "i : ['is']\n",
      "a : ['a']\n"
     ]
    }
   ],
   "source": [
    "# Python Program to Create a Dictionary with Key as First Character and Value as Words Starting with that Character.\n",
    "\n",
    "test_string=\"Hello world this is a test\"\n",
    "l=test_string.split()\n",
    "d={}\n",
    "for word in l:\n",
    "    if(word[0] not in d.keys()):\n",
    "        d[word[0]]=[]\n",
    "        d[word[0]].append(word)\n",
    "    else:\n",
    "        if(word not in d[word[0]]):\n",
    "          d[word[0]].append(word)\n",
    "for k,v in d.items():\n",
    "        print(k,\":\",v)\n",
    "        "
   ]
  },
  {
   "cell_type": "code",
   "execution_count": 18,
   "metadata": {},
   "outputs": [
    {
     "name": "stdout",
     "output_type": "stream",
     "text": [
      "Count of the vowels is:\n",
      "4\n"
     ]
    }
   ],
   "source": [
    "# Python Program to Count the Number of Vowels Present in a String using Sets.\n",
    "\n",
    "s=\"pythonassignment\"\n",
    "count = 0\n",
    "vowels = set(\"aeiou\")\n",
    "for letter in s:\n",
    "    if letter in vowels:\n",
    "        count += 1\n",
    "print(\"Count of the vowels is:\")\n",
    "print(count)"
   ]
  },
  {
   "cell_type": "code",
   "execution_count": 20,
   "metadata": {},
   "outputs": [
    {
     "name": "stdout",
     "output_type": "stream",
     "text": [
      "The letters are:\n",
      "h\n",
      "d\n",
      "r\n",
      "w\n",
      "e\n"
     ]
    }
   ],
   "source": [
    "# Python Program that Displays which Letters are in the Two Strings but not in Both.\n",
    "\n",
    "s1=\"hello\"\n",
    "s2=\"world\"\n",
    "a=list(set(s1)^set(s2))\n",
    "print(\"The letters are:\")\n",
    "for i in a:\n",
    "    print(i)"
   ]
  },
  {
   "cell_type": "code",
   "execution_count": 21,
   "metadata": {},
   "outputs": [
    {
     "name": "stdout",
     "output_type": "stream",
     "text": [
      "The common letters are:\n",
      "h\n",
      "e\n",
      "o\n"
     ]
    }
   ],
   "source": [
    "# Python Program to Check Common Letters in Two Input Strings.\n",
    "\n",
    "s1=\"hello\"\n",
    "s2=\"how are you\"\n",
    "a=list(set(s1)&set(s2))\n",
    "print(\"The common letters are:\")\n",
    "for i in a:\n",
    "    print(i)"
   ]
  },
  {
   "cell_type": "code",
   "execution_count": null,
   "metadata": {},
   "outputs": [],
   "source": []
  }
 ],
 "metadata": {
  "kernelspec": {
   "display_name": "Python 3",
   "language": "python",
   "name": "python3"
  },
  "language_info": {
   "codemirror_mode": {
    "name": "ipython",
    "version": 3
   },
   "file_extension": ".py",
   "mimetype": "text/x-python",
   "name": "python",
   "nbconvert_exporter": "python",
   "pygments_lexer": "ipython3",
   "version": "3.7.6"
  }
 },
 "nbformat": 4,
 "nbformat_minor": 4
}
