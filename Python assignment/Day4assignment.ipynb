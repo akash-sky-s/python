{
 "cells": [
  {
   "cell_type": "code",
   "execution_count": 24,
   "metadata": {},
   "outputs": [
    {
     "name": "stdout",
     "output_type": "stream",
     "text": [
      "1\n",
      "2\n",
      "3\n",
      "4\n",
      "5\n",
      "Access items individually:\n",
      "1\n",
      "2\n",
      "3\n",
      "4\n",
      "5\n"
     ]
    }
   ],
   "source": [
    "# Write a Python program to create an array of 5 integers and display the array items. Access individual element through indexes.\n",
    "\n",
    "from array import *\n",
    "array_num = array('i', [1,2,3,4,5])\n",
    "for i in array_num:\n",
    "    print(i)\n",
    "print(\"Access items individually:\")\n",
    "print(array_num[0])\n",
    "print(array_num[1])\n",
    "print(array_num[2])\n",
    "print(array_num[3])\n",
    "print(array_num[4])\n"
   ]
  },
  {
   "cell_type": "code",
   "execution_count": 25,
   "metadata": {},
   "outputs": [
    {
     "name": "stdout",
     "output_type": "stream",
     "text": [
      "Original array:\n",
      "[10, 20, 30]\n",
      "After append values to the end of the array:\n",
      "[10 20 30 40]\n"
     ]
    }
   ],
   "source": [
    "# Write a Python program to append a new item to the end of the array.\n",
    "\n",
    "import numpy as np\n",
    "x = [10, 20, 30]\n",
    "print(\"Original array:\")\n",
    "print(x)\n",
    "x = np.append(x, [40])\n",
    "print(\"After append values to the end of the array:\")\n",
    "print(x)\n"
   ]
  },
  {
   "cell_type": "code",
   "execution_count": 26,
   "metadata": {},
   "outputs": [
    {
     "name": "stdout",
     "output_type": "stream",
     "text": [
      "Original array:\n",
      "[10, 20, 30, 40, 50]\n",
      "Reverse the order of the items:\n",
      "[50, 40, 30, 20, 10]\n"
     ]
    }
   ],
   "source": [
    "# Write a Python program to reverse the order of the items in the array. \n",
    "\n",
    "import numpy as np\n",
    "x = [10, 20, 30, 40, 50]\n",
    "print(\"Original array:\")\n",
    "print(x)\n",
    "x.reverse()\n",
    "print(\"Reverse the order of the items:\")\n",
    "print(x)"
   ]
  },
  {
   "cell_type": "code",
   "execution_count": 6,
   "metadata": {},
   "outputs": [
    {
     "name": "stdout",
     "output_type": "stream",
     "text": [
      "Original array: array('i', [10, 20, 30, 40, 30, 60, 70])\n",
      "Number of occurrences of the number 3 in the said array: 2\n"
     ]
    }
   ],
   "source": [
    "# Write a Python program to get the number of occurrences of a specified element in an array.\n",
    "\n",
    "from array import *\n",
    "array_num = array('i', [10, 20, 30, 40, 30, 60, 70])\n",
    "print(\"Original array: \"+str(array_num))\n",
    "print(\"Number of occurrences of the number 3 in the said array: \"+str(array_num.count(30)))\n"
   ]
  },
  {
   "cell_type": "code",
   "execution_count": 9,
   "metadata": {},
   "outputs": [
    {
     "name": "stdout",
     "output_type": "stream",
     "text": [
      "Original array: array('i', [1, 3, 4, 5, 6])\n",
      "Insert new value 2 before 3:\n",
      "New array: array('i', [1, 2, 3, 4, 5, 6])\n"
     ]
    }
   ],
   "source": [
    "# Write a Python program to insert a new item before the second element in an existing array.\n",
    "\n",
    "from array import *\n",
    "array_num = array('i', [1, 3, 4, 5, 6])\n",
    "print(\"Original array: \"+str(array_num))\n",
    "print(\"Insert new value 2 before 3:\")\n",
    "array_num.insert(1, 2)\n",
    "print(\"New array: \"+str(array_num))\n"
   ]
  },
  {
   "cell_type": "code",
   "execution_count": 10,
   "metadata": {},
   "outputs": [
    {
     "name": "stdout",
     "output_type": "stream",
     "text": [
      "Original array: array('i', [1, 3, 5, 8, 7, 6, 9, 2])\n",
      "Remove the first occurrence of 3 from the said array:\n",
      "New array: array('i', [1, 5, 8, 7, 6, 9, 2])\n"
     ]
    }
   ],
   "source": [
    "# Write a Python program to remove the first occurrence of a specified element from an array.\n",
    "\n",
    "from array import *\n",
    "array_num = array('i', [1, 3, 5, 8, 7, 6, 9, 2])\n",
    "print(\"Original array: \"+str(array_num))\n",
    "print(\"Remove the first occurrence of 3 from the said array:\")\n",
    "array_num.remove(3)\n",
    "print(\"New array: \"+str(array_num))\n"
   ]
  },
  {
   "cell_type": "code",
   "execution_count": 11,
   "metadata": {},
   "outputs": [
    {
     "name": "stdout",
     "output_type": "stream",
     "text": [
      "Original array: array('i', [1, 2, 3, 4, 5, 6, 7, 8])\n",
      "Convert the said array to an ordinary list with the same items:\n",
      "[1, 2, 3, 4, 5, 6, 7, 8]\n"
     ]
    }
   ],
   "source": [
    "# Write a Python program to convert an array to an ordinary list with the same items.\n",
    "\n",
    "from array import *\n",
    "array_num = array('i', [1, 2, 3, 4, 5, 6, 7, 8])\n",
    "print(\"Original array: \"+str(array_num))\n",
    "num_list = array_num.tolist()\n",
    "print(\"Convert the said array to an ordinary list with the same items:\")\n",
    "print(num_list)\n"
   ]
  },
  {
   "cell_type": "code",
   "execution_count": 13,
   "metadata": {},
   "outputs": [
    {
     "name": "stdout",
     "output_type": "stream",
     "text": [
      "False\n",
      "True\n",
      "True\n",
      "False\n"
     ]
    }
   ],
   "source": [
    "# Write a Python program to find whether a given array of integers contains any duplicate element. Return true if any value appears at least twice in the said array and return false if every element is distinct.\n",
    "\n",
    "def test_duplicate(array_nums):\n",
    "    nums_set = set(array_nums)    \n",
    "    return len(array_nums) != len(nums_set)     \n",
    "print(test_duplicate([1,2,3,4,5]))\n",
    "print(test_duplicate([1,2,3,4,4]))\n",
    "print(test_duplicate([1,1,2,2,3,3,4,4,5]))\n",
    "print(test_duplicate([1,2,3,4,5,6]))\n"
   ]
  },
  {
   "cell_type": "code",
   "execution_count": 14,
   "metadata": {},
   "outputs": [
    {
     "name": "stdout",
     "output_type": "stream",
     "text": [
      "4\n",
      "-1\n",
      "1\n"
     ]
    }
   ],
   "source": [
    "# Write a Python program to find the first duplicate element in a given array of integers. Return -1 If there are no such elements.\n",
    "\n",
    "def find_first_duplicate(nums):\n",
    "    num_set = set()\n",
    "    no_duplicate = -1\n",
    "\n",
    "    for i in range(len(nums)):\n",
    "\n",
    "        if nums[i] in num_set:\n",
    "            return nums[i]\n",
    "        else:\n",
    "            num_set.add(nums[i])\n",
    "\n",
    "    return no_duplicate\n",
    "\n",
    "print(find_first_duplicate([1, 2, 3, 4, 4, 5]))\n",
    "print(find_first_duplicate([1, 2, 3, 4]))\n",
    "print(find_first_duplicate([1, 1, 2, 3, 3, 2, 2]))\n"
   ]
  },
  {
   "cell_type": "code",
   "execution_count": 16,
   "metadata": {},
   "outputs": [
    {
     "name": "stdout",
     "output_type": "stream",
     "text": [
      "5 6 52 36 12 10 "
     ]
    }
   ],
   "source": [
    "# Python Program to Split the array and add the first part to the end. \n",
    "\n",
    "def splitArr(arr, n, k):  \n",
    "    for i in range(0, k):  \n",
    "        x = arr[0] \n",
    "        for j in range(0, n-1): \n",
    "            arr[j] = arr[j + 1] \n",
    "          \n",
    "        arr[n-1] = x \n",
    "          \n",
    "arr = [12, 10, 5, 6, 52, 36] \n",
    "n = len(arr) \n",
    "position = 2\n",
    "  \n",
    "splitArr(arr, n, position) \n",
    "  \n",
    "for i in range(0, n):  \n",
    "    print(arr[i], end = ' ') "
   ]
  },
  {
   "cell_type": "code",
   "execution_count": 18,
   "metadata": {},
   "outputs": [
    {
     "name": "stdout",
     "output_type": "stream",
     "text": [
      "I\n",
      "MMMM\n",
      "M\n"
     ]
    }
   ],
   "source": [
    "# Write a Python class to convert an integer to a roman numeral.\n",
    "\n",
    "class py_solution:\n",
    "    def int_to_Roman(self, num):\n",
    "        val = [\n",
    "            1000, 900, 500, 400,\n",
    "            100, 90, 50, 40,\n",
    "            10, 9, 5, 4,\n",
    "            1\n",
    "            ]\n",
    "        syb = [\n",
    "            \"M\", \"CM\", \"D\", \"CD\",\n",
    "            \"C\", \"XC\", \"L\", \"XL\",\n",
    "            \"X\", \"IX\", \"V\", \"IV\",\n",
    "            \"I\"\n",
    "            ]\n",
    "        roman_num = ''\n",
    "        i = 0\n",
    "        while  num > 0:\n",
    "            for _ in range(num // val[i]):\n",
    "                roman_num += syb[i]\n",
    "                num -= val[i]\n",
    "            i += 1\n",
    "        return roman_num\n",
    "\n",
    "\n",
    "print(py_solution().int_to_Roman(1))\n",
    "print(py_solution().int_to_Roman(4000))\n",
    "print(py_solution().int_to_Roman(1000))\n"
   ]
  },
  {
   "cell_type": "code",
   "execution_count": 19,
   "metadata": {},
   "outputs": [
    {
     "name": "stdout",
     "output_type": "stream",
     "text": [
      "True\n",
      "False\n",
      "True\n"
     ]
    }
   ],
   "source": [
    "# Write a Python class to find validity of a string of parentheses, '(', ')', '{', '}', '[' and ']. These brackets must be close in the correct order, for example \"()\" and \"()[]{}\" are valid but \"[)\", \"({[)]\" and \"{{{\" are invalid. \n",
    "\n",
    "class py_solution:\n",
    "   def is_valid_parenthese(self, str1):\n",
    "        stack, pchar = [], {\"(\": \")\", \"{\": \"}\", \"[\": \"]\"}\n",
    "        for parenthese in str1:\n",
    "            if parenthese in pchar:\n",
    "                stack.append(parenthese)\n",
    "            elif len(stack) == 0 or pchar[stack.pop()] != parenthese:\n",
    "                return False\n",
    "        return len(stack) == 0\n",
    "\n",
    "print(py_solution().is_valid_parenthese(\"(){}[]\"))\n",
    "print(py_solution().is_valid_parenthese(\"()[{)}\"))\n",
    "print(py_solution().is_valid_parenthese(\"()\"))\n"
   ]
  },
  {
   "cell_type": "code",
   "execution_count": 21,
   "metadata": {},
   "outputs": [
    {
     "name": "stdout",
     "output_type": "stream",
     "text": [
      "78.5\n",
      "31.400000000000002\n"
     ]
    }
   ],
   "source": [
    "# Write a Python class named Circle constructed by a radius and two methods which will compute the area and the perimeter of a circle.\n",
    "\n",
    "class Circle():\n",
    "    def __init__(self, r):\n",
    "        self.radius = r\n",
    "\n",
    "    def area(self):\n",
    "        return self.radius**2*3.14\n",
    "    \n",
    "    def perimeter(self):\n",
    "        return 2*self.radius*3.14\n",
    "\n",
    "NewCircle = Circle(5)\n",
    "print(NewCircle.area())\n",
    "print(NewCircle.perimeter())\n"
   ]
  },
  {
   "cell_type": "code",
   "execution_count": 22,
   "metadata": {},
   "outputs": [
    {
     "name": "stdin",
     "output_type": "stream",
     "text": [
      " cdac kharghar\n"
     ]
    },
    {
     "name": "stdout",
     "output_type": "stream",
     "text": [
      "CDAC KHARGHAR\n"
     ]
    }
   ],
   "source": [
    "# Write a Python class which has two methods get_String and print_String. get_String accept a string from the user and print_String print the string in upper case.\n",
    "\n",
    "class IOString():\n",
    "    def __init__(self):\n",
    "        self.str1 = \"\"\n",
    "\n",
    "    def get_String(self):\n",
    "        self.str1 = input()\n",
    "\n",
    "    def print_String(self):\n",
    "        print(self.str1.upper())\n",
    "\n",
    "str1 = IOString()\n",
    "str1.get_String()\n",
    "str1.print_String()\n"
   ]
  },
  {
   "cell_type": "code",
   "execution_count": 23,
   "metadata": {},
   "outputs": [
    {
     "name": "stdout",
     "output_type": "stream",
     "text": [
      "index1=2, index2=3\n"
     ]
    }
   ],
   "source": [
    "# Write a Python class to find a pair of elements (indices of the two numbers) from a given array whose sum equals a specific target number.\n",
    "\n",
    "class py_solution:\n",
    "   def twoSum(self, nums, target):\n",
    "        lookup = {}\n",
    "        for i, num in enumerate(nums):\n",
    "            if target - num in lookup:\n",
    "                return (lookup[target - num], i )\n",
    "            lookup[num] = i\n",
    "print(\"index1=%d, index2=%d\" % py_solution().twoSum((10,20,10,40,50,60,70),50))\n"
   ]
  },
  {
   "cell_type": "code",
   "execution_count": null,
   "metadata": {},
   "outputs": [],
   "source": []
  }
 ],
 "metadata": {
  "kernelspec": {
   "display_name": "Python 3",
   "language": "python",
   "name": "python3"
  },
  "language_info": {
   "codemirror_mode": {
    "name": "ipython",
    "version": 3
   },
   "file_extension": ".py",
   "mimetype": "text/x-python",
   "name": "python",
   "nbconvert_exporter": "python",
   "pygments_lexer": "ipython3",
   "version": "3.7.6"
  }
 },
 "nbformat": 4,
 "nbformat_minor": 4
}
